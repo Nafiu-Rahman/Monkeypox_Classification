{
 "cells": [
  {
   "cell_type": "code",
   "execution_count": 1,
   "id": "3623aca5",
   "metadata": {
    "_cell_guid": "b1076dfc-b9ad-4769-8c92-a6c4dae69d19",
    "_uuid": "8f2839f25d086af736a60e9eeb907d3b93b6e0e5",
    "execution": {
     "iopub.execute_input": "2025-06-05T14:31:14.333824Z",
     "iopub.status.busy": "2025-06-05T14:31:14.333567Z",
     "iopub.status.idle": "2025-06-05T14:31:27.078039Z",
     "shell.execute_reply": "2025-06-05T14:31:27.077152Z"
    },
    "papermill": {
     "duration": 12.749463,
     "end_time": "2025-06-05T14:31:27.079301",
     "exception": false,
     "start_time": "2025-06-05T14:31:14.329838",
     "status": "completed"
    },
    "tags": []
   },
   "outputs": [
    {
     "name": "stdout",
     "output_type": "stream",
     "text": [
      "Using device: cuda\n"
     ]
    }
   ],
   "source": [
    "# Cell 1: Imports and Setup\n",
    "import torch\n",
    "import torch.nn as nn\n",
    "import torch.optim as optim\n",
    "from torchvision import datasets, transforms, models\n",
    "from torch.utils.data import DataLoader, Dataset, ConcatDataset\n",
    "import os\n",
    "import numpy as np\n",
    "import pandas as pd\n",
    "import matplotlib.pyplot as plt\n",
    "import seaborn as sns\n",
    "from PIL import Image\n",
    "from sklearn.metrics import confusion_matrix, classification_report\n",
    "from sklearn.model_selection import KFold, train_test_split\n",
    "from tqdm import tqdm\n",
    "import copy\n",
    "import random\n",
    "import hashlib\n",
    "\n",
    "# Set random seeds for reproducibility\n",
    "torch.manual_seed(42)\n",
    "np.random.seed(42)\n",
    "random.seed(42)\n",
    "\n",
    "# Device configuration\n",
    "device = torch.device('cuda' if torch.cuda.is_available() else 'cpu')\n",
    "print(f\"Using device: {device}\")"
   ]
  },
  {
   "cell_type": "code",
   "execution_count": 2,
   "id": "d8b72e0d",
   "metadata": {
    "execution": {
     "iopub.execute_input": "2025-06-05T14:31:27.085708Z",
     "iopub.status.busy": "2025-06-05T14:31:27.085087Z",
     "iopub.status.idle": "2025-06-05T14:31:27.090796Z",
     "shell.execute_reply": "2025-06-05T14:31:27.090245Z"
    },
    "papermill": {
     "duration": 0.009732,
     "end_time": "2025-06-05T14:31:27.091810",
     "exception": false,
     "start_time": "2025-06-05T14:31:27.082078",
     "status": "completed"
    },
    "tags": []
   },
   "outputs": [],
   "source": [
    "# Cell 2: SkinLesionDataset (Unchanged)\n",
    "class SkinLesionDataset(Dataset):\n",
    "    def __init__(self, root_dir, transform=None):\n",
    "        self.root_dir = root_dir\n",
    "        self.transform = transform\n",
    "        self.classes = sorted(os.listdir(root_dir))\n",
    "        self.class_to_idx = {cls_name: i for i, cls_name in enumerate(self.classes)}\n",
    "        self.images = []\n",
    "        self.labels = []\n",
    "        \n",
    "        for cls_name in self.classes:\n",
    "            cls_dir = os.path.join(root_dir, cls_name)\n",
    "            for img_name in os.listdir(cls_dir):\n",
    "                self.images.append(os.path.join(cls_dir, img_name))\n",
    "                self.labels.append(self.class_to_idx[cls_name])\n",
    "    \n",
    "    def __len__(self):\n",
    "        return len(self.images)\n",
    "    \n",
    "    def __getitem__(self, idx):\n",
    "        img_path = self.images[idx]\n",
    "        image = Image.open(img_path).convert('RGB')\n",
    "        label = self.labels[idx]\n",
    "        \n",
    "        if self.transform:\n",
    "            image = self.transform(image)\n",
    "            \n",
    "        return image, label"
   ]
  },
  {
   "cell_type": "code",
   "execution_count": 3,
   "id": "221b64c1",
   "metadata": {
    "execution": {
     "iopub.execute_input": "2025-06-05T14:31:27.097283Z",
     "iopub.status.busy": "2025-06-05T14:31:27.097102Z",
     "iopub.status.idle": "2025-06-05T14:31:42.646372Z",
     "shell.execute_reply": "2025-06-05T14:31:42.645475Z"
    },
    "papermill": {
     "duration": 15.553313,
     "end_time": "2025-06-05T14:31:42.647507",
     "exception": false,
     "start_time": "2025-06-05T14:31:27.094194",
     "status": "completed"
    },
    "tags": []
   },
   "outputs": [
    {
     "name": "stdout",
     "output_type": "stream",
     "text": [
      "Creating image hashes...\n"
     ]
    },
    {
     "name": "stderr",
     "output_type": "stream",
     "text": [
      "100%|██████████| 2646/2646 [00:15<00:00, 174.86it/s]\n"
     ]
    },
    {
     "name": "stdout",
     "output_type": "stream",
     "text": [
      "\n",
      "Original dataset size: 2646\n",
      "After removing duplicates: 754\n",
      "\n",
      "Class distribution after cleaning:\n",
      "label\n",
      "Chickenpox     74\n",
      "Cowpox         66\n",
      "HFMD          161\n",
      "Healthy       114\n",
      "Measles        55\n",
      "Monkeypox     284\n",
      "Name: count, dtype: int64\n"
     ]
    }
   ],
   "source": [
    "# Cell 3: Data Loading and Deduplication (Unchanged)\n",
    "base_path = \"/kaggle/input/mpox-skin-lesion-dataset-version-20-msld-v20/Original Images/Original Images/FOLDS\"\n",
    "\n",
    "all_images = []\n",
    "all_labels = []\n",
    "\n",
    "for fold in range(1, 6):\n",
    "    train_path = os.path.join(base_path, f\"fold{fold}\", \"Train\")\n",
    "    for class_name in os.listdir(train_path):\n",
    "        class_path = os.path.join(train_path, class_name)\n",
    "        for img_name in os.listdir(class_path):\n",
    "            all_images.append(os.path.join(class_path, img_name))\n",
    "            all_labels.append(class_name)\n",
    "\n",
    "df = pd.DataFrame({'image_path': all_images, 'label': all_labels})\n",
    "\n",
    "print(\"Creating image hashes...\")\n",
    "tqdm.pandas()\n",
    "df['content_hash'] = df['image_path'].progress_apply(\n",
    "    lambda x: hashlib.md5(open(x,'rb').read()).hexdigest()\n",
    ")\n",
    "\n",
    "print(f\"\\nOriginal dataset size: {len(df)}\")\n",
    "df_clean = df.drop_duplicates(subset=['content_hash'], keep='first')\n",
    "print(f\"After removing duplicates: {len(df_clean)}\")\n",
    "\n",
    "print(\"\\nClass distribution after cleaning:\")\n",
    "print(df_clean['label'].value_counts().sort_index())"
   ]
  },
  {
   "cell_type": "code",
   "execution_count": 4,
   "id": "b33af2d9",
   "metadata": {
    "execution": {
     "iopub.execute_input": "2025-06-05T14:31:42.664536Z",
     "iopub.status.busy": "2025-06-05T14:31:42.664119Z",
     "iopub.status.idle": "2025-06-05T14:31:42.675904Z",
     "shell.execute_reply": "2025-06-05T14:31:42.675136Z"
    },
    "papermill": {
     "duration": 0.021314,
     "end_time": "2025-06-05T14:31:42.677127",
     "exception": false,
     "start_time": "2025-06-05T14:31:42.655813",
     "status": "completed"
    },
    "tags": []
   },
   "outputs": [
    {
     "name": "stdout",
     "output_type": "stream",
     "text": [
      "\n",
      "Split sizes:\n",
      "Train (pre-aug): 527 samples\n",
      "Val: 151 samples\n",
      "Test: 76 samples\n",
      "\n",
      "Overlap verification:\n",
      "Train-Val: 0 duplicates\n",
      "Train-Test: 0 duplicates\n",
      "Val-Test: 0 duplicates\n"
     ]
    }
   ],
   "source": [
    "# Cell 4: Data Splitting (Unchanged)\n",
    "train_val, test = train_test_split(\n",
    "    df_clean, \n",
    "    test_size=0.1, \n",
    "    stratify=df_clean['label'], \n",
    "    random_state=42\n",
    ")\n",
    "train, val = train_test_split(\n",
    "    train_val, \n",
    "    test_size=0.2222,\n",
    "    stratify=train_val['label'], \n",
    "    random_state=42\n",
    ")\n",
    "\n",
    "print(f\"\\nSplit sizes:\")\n",
    "print(f\"Train (pre-aug): {len(train)} samples\")\n",
    "print(f\"Val: {len(val)} samples\")\n",
    "print(f\"Test: {len(test)} samples\")\n",
    "\n",
    "def verify_no_overlap(set1, set2):\n",
    "    set1_hashes = set(set1['content_hash'])\n",
    "    set2_hashes = set(set2['content_hash'])\n",
    "    return len(set1_hashes & set2_hashes)\n",
    "\n",
    "print(\"\\nOverlap verification:\")\n",
    "print(f\"Train-Val: {verify_no_overlap(train, val)} duplicates\")\n",
    "print(f\"Train-Test: {verify_no_overlap(train, test)} duplicates\")\n",
    "print(f\"Val-Test: {verify_no_overlap(val, test)} duplicates\")\n"
   ]
  },
  {
   "cell_type": "code",
   "execution_count": 5,
   "id": "2104a97c",
   "metadata": {
    "execution": {
     "iopub.execute_input": "2025-06-05T14:31:42.694133Z",
     "iopub.status.busy": "2025-06-05T14:31:42.693937Z",
     "iopub.status.idle": "2025-06-05T14:31:42.703346Z",
     "shell.execute_reply": "2025-06-05T14:31:42.702805Z"
    },
    "papermill": {
     "duration": 0.019143,
     "end_time": "2025-06-05T14:31:42.704361",
     "exception": false,
     "start_time": "2025-06-05T14:31:42.685218",
     "status": "completed"
    },
    "tags": []
   },
   "outputs": [],
   "source": [
    "# Cell 5: Class-Specific Data Transforms\n",
    "from torchvision import transforms\n",
    "\n",
    "# Enhanced augmentation for Chickenpox\n",
    "chickenpox_transforms = transforms.Compose([\n",
    "    transforms.Resize(256),\n",
    "    transforms.RandomResizedCrop(224, scale=(0.6, 1.0)),  # Wider crop range for diversity\n",
    "    transforms.RandomHorizontalFlip(p=0.5),\n",
    "    transforms.RandomVerticalFlip(p=0.5),\n",
    "    transforms.ColorJitter(brightness=0.5, contrast=0.5, saturation=0.5, hue=0.25),  # Stronger color variation\n",
    "    transforms.RandomRotation(60),  # Increased rotation range\n",
    "    transforms.RandomAffine(degrees=0, translate=(0.2, 0.2), scale=(0.7, 1.3)),  # More aggressive affine\n",
    "    transforms.ToTensor(),\n",
    "    transforms.Normalize([0.485, 0.456, 0.406], [0.229, 0.224, 0.225]),\n",
    "    transforms.RandomErasing(p=0.75, scale=(0.03, 0.2), ratio=(0.2, 4.0))  # Higher erasing probability\n",
    "])\n",
    "\n",
    "# Enhanced augmentation for Cowpox (further refined)\n",
    "cowpox_transforms = transforms.Compose([\n",
    "    transforms.Resize(256),\n",
    "    transforms.RandomResizedCrop(224, scale=(0.5, 1.0)),  # Even wider crop range\n",
    "    transforms.RandomHorizontalFlip(p=0.6),  # Slightly higher flip probability\n",
    "    transforms.RandomVerticalFlip(p=0.6),  # Slightly higher flip probability\n",
    "    transforms.ColorJitter(brightness=0.6, contrast=0.6, saturation=0.6, hue=0.35),  # More aggressive color jitter\n",
    "    transforms.RandomRotation(75),  # Further increased rotation\n",
    "    transforms.RandomAffine(degrees=0, translate=(0.25, 0.25), scale=(0.65, 1.35)),  # More aggressive affine\n",
    "    transforms.ToTensor(),\n",
    "    transforms.Normalize([0.485, 0.456, 0.406], [0.229, 0.224, 0.225]),\n",
    "    transforms.RandomErasing(p=0.85, scale=(0.04, 0.25), ratio=(0.15, 4.5))  # More aggressive erasing\n",
    "])\n",
    "\n",
    "# Standard augmentation for other classes\n",
    "standard_transforms = transforms.Compose([\n",
    "    transforms.Resize(256),\n",
    "    transforms.RandomResizedCrop(224, scale=(0.8, 1.0)),\n",
    "    transforms.RandomHorizontalFlip(p=0.5),\n",
    "    transforms.RandomVerticalFlip(p=0.5),\n",
    "    transforms.ColorJitter(brightness=0.3, contrast=0.3, saturation=0.3, hue=0.1),\n",
    "    transforms.RandomRotation(30),\n",
    "    transforms.RandomAffine(degrees=0, translate=(0.1, 0.1), scale=(0.9, 1.1)),\n",
    "    transforms.ToTensor(),\n",
    "    transforms.Normalize([0.485, 0.456, 0.406], [0.229, 0.224, 0.225]),\n",
    "    transforms.RandomErasing(p=0.5, scale=(0.02, 0.1), ratio=(0.3, 3.3))\n",
    "])\n",
    "\n",
    "val_test_transforms = transforms.Compose([\n",
    "    transforms.Resize(256),\n",
    "    transforms.CenterCrop(224),\n",
    "    transforms.ToTensor(),\n",
    "    transforms.Normalize([0.485, 0.456, 0.406], [0.229, 0.224, 0.225])\n",
    "])\n",
    "\n",
    "data_transforms = {\n",
    "    'train': {\n",
    "        'Chickenpox': chickenpox_transforms,\n",
    "        'Cowpox': cowpox_transforms,\n",
    "        'default': standard_transforms\n",
    "    },\n",
    "    'val': val_test_transforms,\n",
    "    'test': val_test_transforms\n",
    "}\n"
   ]
  },
  {
   "cell_type": "code",
   "execution_count": 6,
   "id": "54ed043f",
   "metadata": {
    "execution": {
     "iopub.execute_input": "2025-06-05T14:31:42.720349Z",
     "iopub.status.busy": "2025-06-05T14:31:42.720162Z",
     "iopub.status.idle": "2025-06-05T14:31:42.738840Z",
     "shell.execute_reply": "2025-06-05T14:31:42.738037Z"
    },
    "papermill": {
     "duration": 0.027993,
     "end_time": "2025-06-05T14:31:42.739903",
     "exception": false,
     "start_time": "2025-06-05T14:31:42.711910",
     "status": "completed"
    },
    "tags": []
   },
   "outputs": [
    {
     "name": "stdout",
     "output_type": "stream",
     "text": [
      "\n",
      "Final dataset sizes:\n",
      "Train (post-aug): 3413 samples\n",
      "Val: 151 samples\n",
      "Test: 76 samples\n",
      "\n",
      "Class distribution in augmented training set:\n",
      "label\n",
      "Monkeypox     198\n",
      "HFMD          113\n",
      "Healthy        80\n",
      "Chickenpox     52\n",
      "Cowpox         46\n",
      "Measles        38\n",
      "Name: count, dtype: int64\n"
     ]
    }
   ],
   "source": [
    "# Cell 6: Dataset Classes with Aggressive Oversampling\n",
    "from torch.utils.data import Dataset\n",
    "from PIL import Image\n",
    "import torch\n",
    "\n",
    "class CustomSplitDataset(Dataset):\n",
    "    def __init__(self, dataframe, transform=None):\n",
    "        self.dataframe = dataframe.reset_index(drop=True)\n",
    "        self.transform = transform\n",
    "        self.classes = sorted(dataframe['label'].unique())\n",
    "        self.class_to_idx = {cls_name: i for i, cls_name in enumerate(self.classes)}\n",
    "    \n",
    "    def __len__(self):\n",
    "        return len(self.dataframe)\n",
    "    \n",
    "    def __getitem__(self, idx):\n",
    "        img_path = self.dataframe.loc[idx, 'image_path']\n",
    "        label = self.dataframe.loc[idx, 'label']\n",
    "        try:\n",
    "            image = Image.open(img_path).convert('RGB')\n",
    "            if self.transform:\n",
    "                image = self.transform(image)\n",
    "            return image, self.class_to_idx[label]\n",
    "        except Exception as e:\n",
    "            print(f\"Error loading image {img_path}: {str(e)}\")\n",
    "            return self.__getitem__(torch.randint(0, len(self), (1,)).item())\n",
    "\n",
    "class AugmentedDataset(Dataset):\n",
    "    def __init__(self, dataframe, transform=None, target_counts=None):\n",
    "        self.dataframe = dataframe.reset_index(drop=True)\n",
    "        self.transform = transform\n",
    "        self.classes = sorted(dataframe['label'].unique())\n",
    "        self.class_to_idx = {cls_name: i for i, cls_name in enumerate(self.classes)}\n",
    "        \n",
    "        self.target_counts = target_counts or int(dataframe['label'].value_counts().max() * 3.0)  # 3x oversampling\n",
    "        self.augment_per_image = self._calculate_augmentation_factors()\n",
    "        \n",
    "    def _calculate_augmentation_factors(self):\n",
    "        class_counts = self.dataframe['label'].value_counts()\n",
    "        return {\n",
    "            cls: max(1, (self.target_counts // count) - 1)\n",
    "            for cls, count in class_counts.items()\n",
    "            if count < self.target_counts\n",
    "        }\n",
    "    \n",
    "    def __len__(self):\n",
    "        original_size = len(self.dataframe)\n",
    "        if not self.augment_per_image:\n",
    "            return original_size\n",
    "        return original_size + sum(\n",
    "            self.augment_per_image.get(cls, 0) * len(self.dataframe[self.dataframe['label'] == cls])\n",
    "            for cls in self.classes\n",
    "        )\n",
    "    \n",
    "    def __getitem__(self, idx):\n",
    "        original_size = len(self.dataframe)\n",
    "        if idx < original_size:\n",
    "            sample = self.dataframe.iloc[idx]\n",
    "        else:\n",
    "            cls_idx = (idx - original_size) % len(self.classes)\n",
    "            cls = self.classes[cls_idx]\n",
    "            if cls in self.augment_per_image:\n",
    "                cls_samples = self.dataframe[self.dataframe['label'] == cls]\n",
    "                sample = cls_samples.iloc[(idx - original_size) // len(self.classes) % len(cls_samples)]\n",
    "            else:\n",
    "                sample = self.dataframe.iloc[idx % original_size]\n",
    "        \n",
    "        img = Image.open(sample['image_path']).convert('RGB')\n",
    "        label = sample['label']\n",
    "        \n",
    "        transform = self.transform.get(label, self.transform['default']) if isinstance(self.transform, dict) else self.transform\n",
    "        if idx >= original_size and label in self.augment_per_image:\n",
    "            img = transform(img)\n",
    "        else:\n",
    "            img = transforms.Resize(256)(img)\n",
    "            img = transforms.CenterCrop(224)(img)\n",
    "            img = transforms.ToTensor()(img)\n",
    "            img = transforms.Normalize([0.485, 0.456, 0.406], [0.229, 0.224, 0.225])(img)\n",
    "            \n",
    "        return img, self.class_to_idx[label]\n",
    "\n",
    "train_dataset = AugmentedDataset(\n",
    "    train, \n",
    "    transform=data_transforms['train'],\n",
    "    target_counts=int(train['label'].value_counts().max() * 3.0)\n",
    ")\n",
    "\n",
    "val_dataset = CustomSplitDataset(val, transform=data_transforms['val'])\n",
    "test_dataset = CustomSplitDataset(test, transform=data_transforms['test'])\n",
    "\n",
    "print(\"\\nFinal dataset sizes:\")\n",
    "print(f\"Train (post-aug): {len(train_dataset)} samples\")\n",
    "print(f\"Val: {len(val_dataset)} samples\")\n",
    "print(f\"Test: {len(test_dataset)} samples\")\n",
    "print(\"\\nClass distribution in augmented training set:\")\n",
    "print(train_dataset.dataframe['label'].value_counts())\n"
   ]
  },
  {
   "cell_type": "code",
   "execution_count": 7,
   "id": "294af1b4",
   "metadata": {
    "execution": {
     "iopub.execute_input": "2025-06-05T14:31:42.756393Z",
     "iopub.status.busy": "2025-06-05T14:31:42.755991Z",
     "iopub.status.idle": "2025-06-05T14:31:42.765282Z",
     "shell.execute_reply": "2025-06-05T14:31:42.764703Z"
    },
    "papermill": {
     "duration": 0.018856,
     "end_time": "2025-06-05T14:31:42.766315",
     "exception": false,
     "start_time": "2025-06-05T14:31:42.747459",
     "status": "completed"
    },
    "tags": []
   },
   "outputs": [
    {
     "name": "stdout",
     "output_type": "stream",
     "text": [
      "\n",
      "Data loading ready! Augmentation only applied to training set.\n"
     ]
    }
   ],
   "source": [
    "# Cell 7: Data Loaders (Unchanged)\n",
    "batch_size = 32\n",
    "\n",
    "train_loader = DataLoader(\n",
    "    train_dataset,\n",
    "    batch_size=batch_size,\n",
    "    shuffle=True,\n",
    "    num_workers=4,\n",
    "    persistent_workers=True\n",
    ")\n",
    "\n",
    "val_loader = DataLoader(\n",
    "    val_dataset,\n",
    "    batch_size=batch_size,\n",
    "    shuffle=False,\n",
    "    num_workers=4,\n",
    "    persistent_workers=True\n",
    ")\n",
    "\n",
    "test_loader = DataLoader(\n",
    "    test_dataset,\n",
    "    batch_size=batch_size,\n",
    "    shuffle=False,\n",
    "    num_workers=4,\n",
    "    persistent_workers=True\n",
    ")\n",
    "\n",
    "print(\"\\nData loading ready! Augmentation only applied to training set.\")"
   ]
  },
  {
   "cell_type": "code",
   "execution_count": 8,
   "id": "4b7f458a",
   "metadata": {
    "execution": {
     "iopub.execute_input": "2025-06-05T14:31:42.782521Z",
     "iopub.status.busy": "2025-06-05T14:31:42.782341Z",
     "iopub.status.idle": "2025-06-05T14:31:42.792020Z",
     "shell.execute_reply": "2025-06-05T14:31:42.791427Z"
    },
    "papermill": {
     "duration": 0.018953,
     "end_time": "2025-06-05T14:31:42.793021",
     "exception": false,
     "start_time": "2025-06-05T14:31:42.774068",
     "status": "completed"
    },
    "tags": []
   },
   "outputs": [],
   "source": [
    "import torch\n",
    "import torch.nn as nn\n",
    "from torchvision import models\n",
    "\n",
    "class EnhancedDotAttention(nn.Module):\n",
    "    def __init__(self, in_channels):\n",
    "        super().__init__()\n",
    "        self.query = nn.Conv2d(in_channels, in_channels, kernel_size=1)\n",
    "        self.key = nn.Conv2d(in_channels, in_channels, kernel_size=1)\n",
    "        self.value = nn.Conv2d(in_channels, in_channels, kernel_size=1)\n",
    "        self.gamma = nn.Parameter(torch.zeros(1))\n",
    "        self.softmax = nn.Softmax(dim=-1)\n",
    "        self.dropout = nn.Dropout(0.3)\n",
    "        \n",
    "    def forward(self, x):\n",
    "        B, C, H, W = x.size()\n",
    "        \n",
    "        # Compute query, key, value\n",
    "        q = self.query(x).view(B, C, H * W)  # [B, C, H*W]\n",
    "        k = self.key(x).view(B, C, H * W)    # [B, C, H*W]\n",
    "        v = self.value(x).view(B, C, H * W)  # [B, C, H*W]\n",
    "        \n",
    "        # Dot-product attention\n",
    "        attention = torch.bmm(q.transpose(1, 2), k)  # [B, H*W, H*W]\n",
    "        attention = attention / (C ** 0.5 + 1e-8)   # Scale by sqrt of channel dimension\n",
    "        attention = torch.clamp(attention, -1e4, 1e4)  # Prevent overflow\n",
    "        attention = self.softmax(attention)\n",
    "        attention = self.dropout(attention)\n",
    "        \n",
    "        # Apply attention to values\n",
    "        out = torch.bmm(v, attention)  # [B, C, H*W]\n",
    "        out = out.view(B, C, H, W)     # Reshape back to [B, C, H, W]\n",
    "        \n",
    "        return self.gamma * out + x\n",
    "\n",
    "class MpoxCNN(nn.Module):\n",
    "    def __init__(self, num_classes=6):\n",
    "        super().__init__()\n",
    "        self.base_model = models.resnet50(weights=models.ResNet50_Weights.IMAGENET1K_V2)\n",
    "        \n",
    "        for param in self.base_model.parameters():\n",
    "            param.requires_grad = True\n",
    "        \n",
    "        in_features = self.base_model.fc.in_features\n",
    "        self.features = nn.Sequential(*list(self.base_model.children())[:-2])\n",
    "        \n",
    "        self.attention = EnhancedDotAttention(2048)\n",
    "        self.avgpool = nn.AdaptiveAvgPool2d((1, 1))\n",
    "        self.dropout = nn.Dropout(0.3)\n",
    "        \n",
    "        self.classifier = nn.Sequential(\n",
    "            nn.Linear(in_features, 1024),\n",
    "            nn.BatchNorm1d(1024),\n",
    "            nn.ReLU(inplace=True),\n",
    "            nn.Dropout(0.3),\n",
    "            nn.Linear(1024, 512),\n",
    "            nn.BatchNorm1d(512),\n",
    "            nn.ReLU(inplace=True),\n",
    "            nn.Dropout(0.3),\n",
    "            nn.Linear(512, num_classes)\n",
    "        )\n",
    "        \n",
    "        for m in self.modules():\n",
    "            if isinstance(m, nn.Linear):\n",
    "                nn.init.xavier_uniform_(m.weight)\n",
    "                nn.init.zeros_(m.bias)\n",
    "\n",
    "    def forward(self, x):\n",
    "        x = self.features(x)\n",
    "        x = self.attention(x)\n",
    "        x = self.avgpool(x)\n",
    "        x = torch.flatten(x, 1)\n",
    "        x = self.dropout(x)\n",
    "        x = self.classifier(x)\n",
    "        return x"
   ]
  },
  {
   "cell_type": "code",
   "execution_count": 9,
   "id": "90ac3857",
   "metadata": {
    "execution": {
     "iopub.execute_input": "2025-06-05T14:31:42.809581Z",
     "iopub.status.busy": "2025-06-05T14:31:42.809407Z",
     "iopub.status.idle": "2025-06-05T14:46:38.527409Z",
     "shell.execute_reply": "2025-06-05T14:46:38.526343Z"
    },
    "papermill": {
     "duration": 895.728029,
     "end_time": "2025-06-05T14:46:38.528568",
     "exception": false,
     "start_time": "2025-06-05T14:31:42.800539",
     "status": "completed"
    },
    "tags": []
   },
   "outputs": [
    {
     "name": "stderr",
     "output_type": "stream",
     "text": [
      "Downloading: \"https://download.pytorch.org/models/resnet50-11ad3fa6.pth\" to /root/.cache/torch/hub/checkpoints/resnet50-11ad3fa6.pth\n",
      "100%|██████████| 97.8M/97.8M [00:00<00:00, 185MB/s]\n"
     ]
    },
    {
     "name": "stdout",
     "output_type": "stream",
     "text": [
      "\n",
      "=== Stage 1: Minority Class Focus ===\n",
      "\n",
      "Epoch 0/49 (minority)\n",
      "----------\n"
     ]
    },
    {
     "name": "stderr",
     "output_type": "stream",
     "text": [
      "Training: 100%|██████████| 107/107 [00:22<00:00,  4.79it/s]\n",
      "Evaluating: 100%|██████████| 5/5 [00:00<00:00,  7.02it/s]\n"
     ]
    },
    {
     "name": "stdout",
     "output_type": "stream",
     "text": [
      "Train Loss: 0.8633 | Acc: 0.4354\n",
      "Val Loss: 0.1826 | Acc: 0.7219\n",
      "\n",
      "Epoch 1/49 (minority)\n",
      "----------\n"
     ]
    },
    {
     "name": "stderr",
     "output_type": "stream",
     "text": [
      "Training: 100%|██████████| 107/107 [00:20<00:00,  5.21it/s]\n",
      "Evaluating: 100%|██████████| 5/5 [00:00<00:00,  9.85it/s]\n"
     ]
    },
    {
     "name": "stdout",
     "output_type": "stream",
     "text": [
      "Train Loss: 0.3218 | Acc: 0.6967\n",
      "Val Loss: 0.1537 | Acc: 0.8013\n",
      "\n",
      "Epoch 2/49 (minority)\n",
      "----------\n"
     ]
    },
    {
     "name": "stderr",
     "output_type": "stream",
     "text": [
      "Training: 100%|██████████| 107/107 [00:20<00:00,  5.23it/s]\n",
      "Evaluating: 100%|██████████| 5/5 [00:00<00:00, 10.21it/s]\n"
     ]
    },
    {
     "name": "stdout",
     "output_type": "stream",
     "text": [
      "Train Loss: 0.1918 | Acc: 0.7961\n",
      "Val Loss: 0.0763 | Acc: 0.8146\n",
      "\n",
      "Epoch 3/49 (minority)\n",
      "----------\n"
     ]
    },
    {
     "name": "stderr",
     "output_type": "stream",
     "text": [
      "Training: 100%|██████████| 107/107 [00:20<00:00,  5.22it/s]\n",
      "Evaluating: 100%|██████████| 5/5 [00:00<00:00, 10.15it/s]\n"
     ]
    },
    {
     "name": "stdout",
     "output_type": "stream",
     "text": [
      "Train Loss: 0.1507 | Acc: 0.8494\n",
      "Val Loss: 0.0648 | Acc: 0.8742\n",
      "\n",
      "Epoch 4/49 (minority)\n",
      "----------\n"
     ]
    },
    {
     "name": "stderr",
     "output_type": "stream",
     "text": [
      "Training: 100%|██████████| 107/107 [00:20<00:00,  5.22it/s]\n",
      "Evaluating: 100%|██████████| 5/5 [00:00<00:00,  9.78it/s]\n"
     ]
    },
    {
     "name": "stdout",
     "output_type": "stream",
     "text": [
      "Train Loss: 0.1122 | Acc: 0.8731\n",
      "Val Loss: 0.1126 | Acc: 0.8278\n",
      "\n",
      "Epoch 5/49 (minority)\n",
      "----------\n"
     ]
    },
    {
     "name": "stderr",
     "output_type": "stream",
     "text": [
      "Training: 100%|██████████| 107/107 [00:20<00:00,  5.26it/s]\n",
      "Evaluating: 100%|██████████| 5/5 [00:00<00:00,  9.98it/s]\n"
     ]
    },
    {
     "name": "stdout",
     "output_type": "stream",
     "text": [
      "Train Loss: 0.0845 | Acc: 0.9021\n",
      "Val Loss: 0.1107 | Acc: 0.8742\n",
      "\n",
      "Epoch 6/49 (minority)\n",
      "----------\n"
     ]
    },
    {
     "name": "stderr",
     "output_type": "stream",
     "text": [
      "Training: 100%|██████████| 107/107 [00:20<00:00,  5.23it/s]\n",
      "Evaluating: 100%|██████████| 5/5 [00:00<00:00, 10.20it/s]\n"
     ]
    },
    {
     "name": "stdout",
     "output_type": "stream",
     "text": [
      "Train Loss: 0.0850 | Acc: 0.8936\n",
      "Val Loss: 0.1165 | Acc: 0.8212\n",
      "\n",
      "Epoch 7/49 (minority)\n",
      "----------\n"
     ]
    },
    {
     "name": "stderr",
     "output_type": "stream",
     "text": [
      "Training: 100%|██████████| 107/107 [00:20<00:00,  5.24it/s]\n",
      "Evaluating: 100%|██████████| 5/5 [00:00<00:00, 10.26it/s]\n"
     ]
    },
    {
     "name": "stdout",
     "output_type": "stream",
     "text": [
      "Train Loss: 0.0636 | Acc: 0.9153\n",
      "Val Loss: 0.0704 | Acc: 0.8411\n",
      "\n",
      "Epoch 8/49 (minority)\n",
      "----------\n"
     ]
    },
    {
     "name": "stderr",
     "output_type": "stream",
     "text": [
      "Training: 100%|██████████| 107/107 [00:20<00:00,  5.24it/s]\n",
      "Evaluating: 100%|██████████| 5/5 [00:00<00:00,  9.59it/s]\n"
     ]
    },
    {
     "name": "stdout",
     "output_type": "stream",
     "text": [
      "Train Loss: 0.0620 | Acc: 0.9241\n",
      "Val Loss: 0.1310 | Acc: 0.8146\n",
      "\n",
      "Epoch 9/49 (minority)\n",
      "----------\n"
     ]
    },
    {
     "name": "stderr",
     "output_type": "stream",
     "text": [
      "Training: 100%|██████████| 107/107 [00:20<00:00,  5.13it/s]\n",
      "Evaluating: 100%|██████████| 5/5 [00:00<00:00, 10.12it/s]\n"
     ]
    },
    {
     "name": "stdout",
     "output_type": "stream",
     "text": [
      "Train Loss: 0.0487 | Acc: 0.9341\n",
      "Val Loss: 0.0912 | Acc: 0.8477\n",
      "\n",
      "Epoch 10/49 (minority)\n",
      "----------\n"
     ]
    },
    {
     "name": "stderr",
     "output_type": "stream",
     "text": [
      "Training: 100%|██████████| 107/107 [00:20<00:00,  5.17it/s]\n",
      "Evaluating: 100%|██████████| 5/5 [00:00<00:00,  9.07it/s]\n"
     ]
    },
    {
     "name": "stdout",
     "output_type": "stream",
     "text": [
      "Train Loss: 0.0383 | Acc: 0.9388\n",
      "Val Loss: 0.0975 | Acc: 0.8477\n",
      "\n",
      "Epoch 11/49 (minority)\n",
      "----------\n"
     ]
    },
    {
     "name": "stderr",
     "output_type": "stream",
     "text": [
      "Training: 100%|██████████| 107/107 [00:20<00:00,  5.20it/s]\n",
      "Evaluating: 100%|██████████| 5/5 [00:00<00:00,  9.95it/s]\n"
     ]
    },
    {
     "name": "stdout",
     "output_type": "stream",
     "text": [
      "Train Loss: 0.0394 | Acc: 0.9455\n",
      "Val Loss: 0.0913 | Acc: 0.8411\n",
      "\n",
      "Epoch 12/49 (minority)\n",
      "----------\n"
     ]
    },
    {
     "name": "stderr",
     "output_type": "stream",
     "text": [
      "Training: 100%|██████████| 107/107 [00:20<00:00,  5.17it/s]\n",
      "Evaluating: 100%|██████████| 5/5 [00:00<00:00,  9.65it/s]\n"
     ]
    },
    {
     "name": "stdout",
     "output_type": "stream",
     "text": [
      "Train Loss: 0.0336 | Acc: 0.9499\n",
      "Val Loss: 0.0702 | Acc: 0.9007\n",
      "\n",
      "Epoch 13/49 (minority)\n",
      "----------\n"
     ]
    },
    {
     "name": "stderr",
     "output_type": "stream",
     "text": [
      "Training: 100%|██████████| 107/107 [00:20<00:00,  5.20it/s]\n",
      "Evaluating: 100%|██████████| 5/5 [00:00<00:00,  9.26it/s]\n"
     ]
    },
    {
     "name": "stdout",
     "output_type": "stream",
     "text": [
      "Train Loss: 0.0362 | Acc: 0.9484\n",
      "Val Loss: 0.0896 | Acc: 0.8742\n",
      "\n",
      "Epoch 14/49 (minority)\n",
      "----------\n"
     ]
    },
    {
     "name": "stderr",
     "output_type": "stream",
     "text": [
      "Training: 100%|██████████| 107/107 [00:20<00:00,  5.17it/s]\n",
      "Evaluating: 100%|██████████| 5/5 [00:00<00:00,  9.92it/s]\n"
     ]
    },
    {
     "name": "stdout",
     "output_type": "stream",
     "text": [
      "Train Loss: 0.0246 | Acc: 0.9596\n",
      "Val Loss: 0.1436 | Acc: 0.8940\n",
      "\n",
      "Epoch 15/49 (minority)\n",
      "----------\n"
     ]
    },
    {
     "name": "stderr",
     "output_type": "stream",
     "text": [
      "Training: 100%|██████████| 107/107 [00:20<00:00,  5.19it/s]\n",
      "Evaluating: 100%|██████████| 5/5 [00:00<00:00, 10.04it/s]\n"
     ]
    },
    {
     "name": "stdout",
     "output_type": "stream",
     "text": [
      "Train Loss: 0.0315 | Acc: 0.9587\n",
      "Val Loss: 0.0865 | Acc: 0.8742\n",
      "\n",
      "Epoch 16/49 (minority)\n",
      "----------\n"
     ]
    },
    {
     "name": "stderr",
     "output_type": "stream",
     "text": [
      "Training: 100%|██████████| 107/107 [00:20<00:00,  5.21it/s]\n",
      "Evaluating: 100%|██████████| 5/5 [00:00<00:00, 10.13it/s]\n"
     ]
    },
    {
     "name": "stdout",
     "output_type": "stream",
     "text": [
      "Train Loss: 0.0229 | Acc: 0.9599\n",
      "Val Loss: 0.0624 | Acc: 0.8874\n",
      "\n",
      "Epoch 17/49 (minority)\n",
      "----------\n"
     ]
    },
    {
     "name": "stderr",
     "output_type": "stream",
     "text": [
      "Training: 100%|██████████| 107/107 [00:20<00:00,  5.19it/s]\n",
      "Evaluating: 100%|██████████| 5/5 [00:00<00:00, 10.17it/s]\n"
     ]
    },
    {
     "name": "stdout",
     "output_type": "stream",
     "text": [
      "Train Loss: 0.0291 | Acc: 0.9561\n",
      "Val Loss: 0.0769 | Acc: 0.8808\n",
      "\n",
      "Epoch 18/49 (minority)\n",
      "----------\n"
     ]
    },
    {
     "name": "stderr",
     "output_type": "stream",
     "text": [
      "Training: 100%|██████████| 107/107 [00:20<00:00,  5.22it/s]\n",
      "Evaluating: 100%|██████████| 5/5 [00:00<00:00, 10.11it/s]\n"
     ]
    },
    {
     "name": "stdout",
     "output_type": "stream",
     "text": [
      "Train Loss: 0.0253 | Acc: 0.9607\n",
      "Val Loss: 0.0978 | Acc: 0.8675\n",
      "\n",
      "Epoch 19/49 (minority)\n",
      "----------\n"
     ]
    },
    {
     "name": "stderr",
     "output_type": "stream",
     "text": [
      "Training: 100%|██████████| 107/107 [00:20<00:00,  5.23it/s]\n",
      "Evaluating: 100%|██████████| 5/5 [00:00<00:00, 10.13it/s]\n"
     ]
    },
    {
     "name": "stdout",
     "output_type": "stream",
     "text": [
      "Train Loss: 0.0189 | Acc: 0.9686\n",
      "Val Loss: 0.0998 | Acc: 0.8543\n",
      "\n",
      "Epoch 20/49 (minority)\n",
      "----------\n"
     ]
    },
    {
     "name": "stderr",
     "output_type": "stream",
     "text": [
      "Training: 100%|██████████| 107/107 [00:20<00:00,  5.20it/s]\n",
      "Evaluating: 100%|██████████| 5/5 [00:00<00:00, 10.19it/s]\n"
     ]
    },
    {
     "name": "stdout",
     "output_type": "stream",
     "text": [
      "Train Loss: 0.0214 | Acc: 0.9643\n",
      "Val Loss: 0.0822 | Acc: 0.8808\n",
      "\n",
      "Epoch 21/49 (minority)\n",
      "----------\n"
     ]
    },
    {
     "name": "stderr",
     "output_type": "stream",
     "text": [
      "Training: 100%|██████████| 107/107 [00:20<00:00,  5.21it/s]\n",
      "Evaluating: 100%|██████████| 5/5 [00:00<00:00, 10.26it/s]\n"
     ]
    },
    {
     "name": "stdout",
     "output_type": "stream",
     "text": [
      "Train Loss: 0.0173 | Acc: 0.9716\n",
      "Val Loss: 0.0810 | Acc: 0.8477\n",
      "\n",
      "Epoch 22/49 (minority)\n",
      "----------\n"
     ]
    },
    {
     "name": "stderr",
     "output_type": "stream",
     "text": [
      "Training: 100%|██████████| 107/107 [00:20<00:00,  5.23it/s]\n",
      "Evaluating: 100%|██████████| 5/5 [00:00<00:00, 10.03it/s]\n"
     ]
    },
    {
     "name": "stdout",
     "output_type": "stream",
     "text": [
      "Train Loss: 0.0193 | Acc: 0.9681\n",
      "Val Loss: 0.0756 | Acc: 0.8742\n",
      "\n",
      "Epoch 23/49 (minority)\n",
      "----------\n"
     ]
    },
    {
     "name": "stderr",
     "output_type": "stream",
     "text": [
      "Training: 100%|██████████| 107/107 [00:20<00:00,  5.20it/s]\n",
      "Evaluating: 100%|██████████| 5/5 [00:00<00:00, 10.14it/s]\n"
     ]
    },
    {
     "name": "stdout",
     "output_type": "stream",
     "text": [
      "Train Loss: 0.0143 | Acc: 0.9754\n",
      "Val Loss: 0.0683 | Acc: 0.8808\n",
      "\n",
      "Epoch 24/49 (minority)\n",
      "----------\n"
     ]
    },
    {
     "name": "stderr",
     "output_type": "stream",
     "text": [
      "Training: 100%|██████████| 107/107 [00:20<00:00,  5.22it/s]\n",
      "Evaluating: 100%|██████████| 5/5 [00:00<00:00, 10.11it/s]\n"
     ]
    },
    {
     "name": "stdout",
     "output_type": "stream",
     "text": [
      "Train Loss: 0.0171 | Acc: 0.9716\n",
      "Val Loss: 0.0877 | Acc: 0.8543\n",
      "\n",
      "Epoch 25/49 (minority)\n",
      "----------\n"
     ]
    },
    {
     "name": "stderr",
     "output_type": "stream",
     "text": [
      "Training: 100%|██████████| 107/107 [00:20<00:00,  5.23it/s]\n",
      "Evaluating: 100%|██████████| 5/5 [00:00<00:00, 10.06it/s]\n"
     ]
    },
    {
     "name": "stdout",
     "output_type": "stream",
     "text": [
      "Train Loss: 0.0141 | Acc: 0.9751\n",
      "Val Loss: 0.0684 | Acc: 0.8808\n",
      "\n",
      "Epoch 26/49 (minority)\n",
      "----------\n"
     ]
    },
    {
     "name": "stderr",
     "output_type": "stream",
     "text": [
      "Training: 100%|██████████| 107/107 [00:20<00:00,  5.19it/s]\n",
      "Evaluating: 100%|██████████| 5/5 [00:00<00:00, 10.08it/s]\n"
     ]
    },
    {
     "name": "stdout",
     "output_type": "stream",
     "text": [
      "Train Loss: 0.0113 | Acc: 0.9798\n",
      "Val Loss: 0.0817 | Acc: 0.8742\n",
      "\n",
      "Epoch 27/49 (minority)\n",
      "----------\n"
     ]
    },
    {
     "name": "stderr",
     "output_type": "stream",
     "text": [
      "Training: 100%|██████████| 107/107 [00:20<00:00,  5.19it/s]\n",
      "Evaluating: 100%|██████████| 5/5 [00:00<00:00, 10.16it/s]\n"
     ]
    },
    {
     "name": "stdout",
     "output_type": "stream",
     "text": [
      "Train Loss: 0.0134 | Acc: 0.9739\n",
      "Val Loss: 0.1023 | Acc: 0.8411\n",
      "\n",
      "Epoch 28/49 (minority)\n",
      "----------\n"
     ]
    },
    {
     "name": "stderr",
     "output_type": "stream",
     "text": [
      "Training: 100%|██████████| 107/107 [00:20<00:00,  5.22it/s]\n",
      "Evaluating: 100%|██████████| 5/5 [00:00<00:00,  9.64it/s]\n"
     ]
    },
    {
     "name": "stdout",
     "output_type": "stream",
     "text": [
      "Train Loss: 0.0127 | Acc: 0.9739\n",
      "Val Loss: 0.0634 | Acc: 0.8609\n",
      "\n",
      "Epoch 29/49 (minority)\n",
      "----------\n"
     ]
    },
    {
     "name": "stderr",
     "output_type": "stream",
     "text": [
      "Training: 100%|██████████| 107/107 [00:20<00:00,  5.20it/s]\n",
      "Evaluating: 100%|██████████| 5/5 [00:00<00:00,  9.90it/s]\n"
     ]
    },
    {
     "name": "stdout",
     "output_type": "stream",
     "text": [
      "Train Loss: 0.0115 | Acc: 0.9792\n",
      "Val Loss: 0.0537 | Acc: 0.8675\n",
      "\n",
      "Epoch 30/49 (minority)\n",
      "----------\n"
     ]
    },
    {
     "name": "stderr",
     "output_type": "stream",
     "text": [
      "Training: 100%|██████████| 107/107 [00:20<00:00,  5.21it/s]\n",
      "Evaluating: 100%|██████████| 5/5 [00:00<00:00,  9.16it/s]\n"
     ]
    },
    {
     "name": "stdout",
     "output_type": "stream",
     "text": [
      "Train Loss: 0.0164 | Acc: 0.9810\n",
      "Val Loss: 0.0667 | Acc: 0.8675\n",
      "\n",
      "Epoch 31/49 (minority)\n",
      "----------\n"
     ]
    },
    {
     "name": "stderr",
     "output_type": "stream",
     "text": [
      "Training: 100%|██████████| 107/107 [00:20<00:00,  5.18it/s]\n",
      "Evaluating: 100%|██████████| 5/5 [00:00<00:00, 10.01it/s]\n"
     ]
    },
    {
     "name": "stdout",
     "output_type": "stream",
     "text": [
      "Train Loss: 0.0161 | Acc: 0.9783\n",
      "Val Loss: 0.0571 | Acc: 0.8940\n",
      "\n",
      "Epoch 32/49 (minority)\n",
      "----------\n"
     ]
    },
    {
     "name": "stderr",
     "output_type": "stream",
     "text": [
      "Training: 100%|██████████| 107/107 [00:20<00:00,  5.19it/s]\n",
      "Evaluating: 100%|██████████| 5/5 [00:00<00:00, 10.16it/s]\n",
      "/usr/local/lib/python3.11/dist-packages/torch/utils/data/dataloader.py:624: UserWarning: This DataLoader will create 8 worker processes in total. Our suggested max number of worker in current system is 4, which is smaller than what this DataLoader is going to create. Please be aware that excessive worker creation might get DataLoader running slow or even freeze, lower the worker number to avoid potential slowness/freeze if necessary.\n",
      "  warnings.warn(\n"
     ]
    },
    {
     "name": "stdout",
     "output_type": "stream",
     "text": [
      "Train Loss: 0.0082 | Acc: 0.9848\n",
      "Val Loss: 0.0589 | Acc: 0.8940\n",
      "\n",
      "Early stopping triggered after 33 epochs\n",
      "Best validation Acc (minority): 0.9007\n",
      "\n",
      "=== Stage 2: Balanced Fine-Tuning ===\n",
      "\n",
      "Epoch 0/99 (balanced)\n",
      "----------\n"
     ]
    },
    {
     "name": "stderr",
     "output_type": "stream",
     "text": [
      "Training: 100%|██████████| 17/17 [00:04<00:00,  3.46it/s]\n",
      "Evaluating: 100%|██████████| 5/5 [00:00<00:00,  9.46it/s]\n"
     ]
    },
    {
     "name": "stdout",
     "output_type": "stream",
     "text": [
      "Train Loss: 0.0755 | Acc: 0.8273\n",
      "Val Loss: 0.0869 | Acc: 0.8344\n",
      "\n",
      "Epoch 1/99 (balanced)\n",
      "----------\n"
     ]
    },
    {
     "name": "stderr",
     "output_type": "stream",
     "text": [
      "Training: 100%|██████████| 17/17 [00:04<00:00,  3.78it/s]\n",
      "Evaluating: 100%|██████████| 5/5 [00:00<00:00,  9.91it/s]\n"
     ]
    },
    {
     "name": "stdout",
     "output_type": "stream",
     "text": [
      "Train Loss: 0.0786 | Acc: 0.8406\n",
      "Val Loss: 0.0895 | Acc: 0.8477\n",
      "\n",
      "Epoch 2/99 (balanced)\n",
      "----------\n"
     ]
    },
    {
     "name": "stderr",
     "output_type": "stream",
     "text": [
      "Training: 100%|██████████| 17/17 [00:04<00:00,  3.75it/s]\n",
      "Evaluating: 100%|██████████| 5/5 [00:00<00:00, 10.13it/s]\n"
     ]
    },
    {
     "name": "stdout",
     "output_type": "stream",
     "text": [
      "Train Loss: 0.0458 | Acc: 0.8824\n",
      "Val Loss: 0.0891 | Acc: 0.8543\n",
      "\n",
      "Epoch 3/99 (balanced)\n",
      "----------\n"
     ]
    },
    {
     "name": "stderr",
     "output_type": "stream",
     "text": [
      "Training: 100%|██████████| 17/17 [00:04<00:00,  3.78it/s]\n",
      "Evaluating: 100%|██████████| 5/5 [00:00<00:00, 10.05it/s]\n"
     ]
    },
    {
     "name": "stdout",
     "output_type": "stream",
     "text": [
      "Train Loss: 0.0336 | Acc: 0.9013\n",
      "Val Loss: 0.0871 | Acc: 0.8609\n",
      "\n",
      "Epoch 4/99 (balanced)\n",
      "----------\n"
     ]
    },
    {
     "name": "stderr",
     "output_type": "stream",
     "text": [
      "Training: 100%|██████████| 17/17 [00:04<00:00,  3.44it/s]\n",
      "Evaluating: 100%|██████████| 5/5 [00:00<00:00,  9.27it/s]\n"
     ]
    },
    {
     "name": "stdout",
     "output_type": "stream",
     "text": [
      "Train Loss: 0.0283 | Acc: 0.9127\n",
      "Val Loss: 0.0955 | Acc: 0.8609\n",
      "\n",
      "Epoch 5/99 (balanced)\n",
      "----------\n"
     ]
    },
    {
     "name": "stderr",
     "output_type": "stream",
     "text": [
      "Training: 100%|██████████| 17/17 [00:04<00:00,  3.75it/s]\n",
      "Evaluating: 100%|██████████| 5/5 [00:00<00:00,  9.81it/s]\n"
     ]
    },
    {
     "name": "stdout",
     "output_type": "stream",
     "text": [
      "Train Loss: 0.0350 | Acc: 0.9070\n",
      "Val Loss: 0.0899 | Acc: 0.8477\n",
      "\n",
      "Epoch 6/99 (balanced)\n",
      "----------\n"
     ]
    },
    {
     "name": "stderr",
     "output_type": "stream",
     "text": [
      "Training: 100%|██████████| 17/17 [00:04<00:00,  3.91it/s]\n",
      "Evaluating: 100%|██████████| 5/5 [00:00<00:00,  9.52it/s]\n"
     ]
    },
    {
     "name": "stdout",
     "output_type": "stream",
     "text": [
      "Train Loss: 0.0322 | Acc: 0.9146\n",
      "Val Loss: 0.0931 | Acc: 0.8344\n",
      "\n",
      "Epoch 7/99 (balanced)\n",
      "----------\n"
     ]
    },
    {
     "name": "stderr",
     "output_type": "stream",
     "text": [
      "Training: 100%|██████████| 17/17 [00:04<00:00,  3.86it/s]\n",
      "Evaluating: 100%|██████████| 5/5 [00:00<00:00,  9.89it/s]\n"
     ]
    },
    {
     "name": "stdout",
     "output_type": "stream",
     "text": [
      "Train Loss: 0.0357 | Acc: 0.9108\n",
      "Val Loss: 0.0923 | Acc: 0.8543\n",
      "\n",
      "Epoch 8/99 (balanced)\n",
      "----------\n"
     ]
    },
    {
     "name": "stderr",
     "output_type": "stream",
     "text": [
      "Training: 100%|██████████| 17/17 [00:04<00:00,  3.79it/s]\n",
      "Evaluating: 100%|██████████| 5/5 [00:00<00:00,  9.84it/s]\n"
     ]
    },
    {
     "name": "stdout",
     "output_type": "stream",
     "text": [
      "Train Loss: 0.0466 | Acc: 0.8994\n",
      "Val Loss: 0.0897 | Acc: 0.8609\n",
      "\n",
      "Epoch 9/99 (balanced)\n",
      "----------\n"
     ]
    },
    {
     "name": "stderr",
     "output_type": "stream",
     "text": [
      "Training: 100%|██████████| 17/17 [00:04<00:00,  3.84it/s]\n",
      "Evaluating: 100%|██████████| 5/5 [00:00<00:00, 10.22it/s]\n"
     ]
    },
    {
     "name": "stdout",
     "output_type": "stream",
     "text": [
      "Train Loss: 0.0266 | Acc: 0.9089\n",
      "Val Loss: 0.0891 | Acc: 0.8808\n",
      "\n",
      "Epoch 10/99 (balanced)\n",
      "----------\n"
     ]
    },
    {
     "name": "stderr",
     "output_type": "stream",
     "text": [
      "Training: 100%|██████████| 17/17 [00:04<00:00,  3.83it/s]\n",
      "Evaluating: 100%|██████████| 5/5 [00:00<00:00,  9.31it/s]\n"
     ]
    },
    {
     "name": "stdout",
     "output_type": "stream",
     "text": [
      "Train Loss: 0.0312 | Acc: 0.9298\n",
      "Val Loss: 0.0886 | Acc: 0.8808\n",
      "\n",
      "Epoch 11/99 (balanced)\n",
      "----------\n"
     ]
    },
    {
     "name": "stderr",
     "output_type": "stream",
     "text": [
      "Training: 100%|██████████| 17/17 [00:04<00:00,  3.83it/s]\n",
      "Evaluating: 100%|██████████| 5/5 [00:00<00:00, 10.11it/s]\n"
     ]
    },
    {
     "name": "stdout",
     "output_type": "stream",
     "text": [
      "Train Loss: 0.0252 | Acc: 0.9317\n",
      "Val Loss: 0.0892 | Acc: 0.8742\n",
      "\n",
      "Epoch 12/99 (balanced)\n",
      "----------\n"
     ]
    },
    {
     "name": "stderr",
     "output_type": "stream",
     "text": [
      "Training: 100%|██████████| 17/17 [00:04<00:00,  3.76it/s]\n",
      "Evaluating: 100%|██████████| 5/5 [00:00<00:00, 10.07it/s]\n"
     ]
    },
    {
     "name": "stdout",
     "output_type": "stream",
     "text": [
      "Train Loss: 0.0251 | Acc: 0.9336\n",
      "Val Loss: 0.0934 | Acc: 0.8940\n",
      "\n",
      "Epoch 13/99 (balanced)\n",
      "----------\n"
     ]
    },
    {
     "name": "stderr",
     "output_type": "stream",
     "text": [
      "Training: 100%|██████████| 17/17 [00:04<00:00,  3.90it/s]\n",
      "Evaluating: 100%|██████████| 5/5 [00:00<00:00,  9.93it/s]\n"
     ]
    },
    {
     "name": "stdout",
     "output_type": "stream",
     "text": [
      "Train Loss: 0.0270 | Acc: 0.9545\n",
      "Val Loss: 0.0851 | Acc: 0.9007\n",
      "\n",
      "Epoch 14/99 (balanced)\n",
      "----------\n"
     ]
    },
    {
     "name": "stderr",
     "output_type": "stream",
     "text": [
      "Training: 100%|██████████| 17/17 [00:04<00:00,  3.89it/s]\n",
      "Evaluating: 100%|██████████| 5/5 [00:00<00:00,  9.10it/s]\n"
     ]
    },
    {
     "name": "stdout",
     "output_type": "stream",
     "text": [
      "Train Loss: 0.0321 | Acc: 0.9279\n",
      "Val Loss: 0.0895 | Acc: 0.8808\n",
      "\n",
      "Epoch 15/99 (balanced)\n",
      "----------\n"
     ]
    },
    {
     "name": "stderr",
     "output_type": "stream",
     "text": [
      "Training: 100%|██████████| 17/17 [00:04<00:00,  3.91it/s]\n",
      "Evaluating: 100%|██████████| 5/5 [00:00<00:00, 10.10it/s]\n"
     ]
    },
    {
     "name": "stdout",
     "output_type": "stream",
     "text": [
      "Train Loss: 0.0114 | Acc: 0.9620\n",
      "Val Loss: 0.0899 | Acc: 0.8808\n",
      "\n",
      "Epoch 16/99 (balanced)\n",
      "----------\n"
     ]
    },
    {
     "name": "stderr",
     "output_type": "stream",
     "text": [
      "Training: 100%|██████████| 17/17 [00:04<00:00,  3.83it/s]\n",
      "Evaluating: 100%|██████████| 5/5 [00:00<00:00,  9.80it/s]\n"
     ]
    },
    {
     "name": "stdout",
     "output_type": "stream",
     "text": [
      "Train Loss: 0.0188 | Acc: 0.9184\n",
      "Val Loss: 0.0865 | Acc: 0.8742\n",
      "\n",
      "Epoch 17/99 (balanced)\n",
      "----------\n"
     ]
    },
    {
     "name": "stderr",
     "output_type": "stream",
     "text": [
      "Training: 100%|██████████| 17/17 [00:04<00:00,  3.56it/s]\n",
      "Evaluating: 100%|██████████| 5/5 [00:00<00:00, 10.26it/s]\n"
     ]
    },
    {
     "name": "stdout",
     "output_type": "stream",
     "text": [
      "Train Loss: 0.0167 | Acc: 0.9507\n",
      "Val Loss: 0.0868 | Acc: 0.8808\n",
      "\n",
      "Epoch 18/99 (balanced)\n",
      "----------\n"
     ]
    },
    {
     "name": "stderr",
     "output_type": "stream",
     "text": [
      "Training: 100%|██████████| 17/17 [00:04<00:00,  3.80it/s]\n",
      "Evaluating: 100%|██████████| 5/5 [00:00<00:00,  9.19it/s]\n"
     ]
    },
    {
     "name": "stdout",
     "output_type": "stream",
     "text": [
      "Train Loss: 0.0262 | Acc: 0.9355\n",
      "Val Loss: 0.0830 | Acc: 0.8675\n",
      "\n",
      "Epoch 19/99 (balanced)\n",
      "----------\n"
     ]
    },
    {
     "name": "stderr",
     "output_type": "stream",
     "text": [
      "Training: 100%|██████████| 17/17 [00:04<00:00,  4.01it/s]\n",
      "Evaluating: 100%|██████████| 5/5 [00:00<00:00, 10.12it/s]\n"
     ]
    },
    {
     "name": "stdout",
     "output_type": "stream",
     "text": [
      "Train Loss: 0.0207 | Acc: 0.9431\n",
      "Val Loss: 0.0810 | Acc: 0.8675\n",
      "\n",
      "Epoch 20/99 (balanced)\n",
      "----------\n"
     ]
    },
    {
     "name": "stderr",
     "output_type": "stream",
     "text": [
      "Training: 100%|██████████| 17/17 [00:04<00:00,  3.92it/s]\n",
      "Evaluating: 100%|██████████| 5/5 [00:00<00:00,  9.13it/s]\n"
     ]
    },
    {
     "name": "stdout",
     "output_type": "stream",
     "text": [
      "Train Loss: 0.0180 | Acc: 0.9450\n",
      "Val Loss: 0.0835 | Acc: 0.8874\n",
      "\n",
      "Epoch 21/99 (balanced)\n",
      "----------\n"
     ]
    },
    {
     "name": "stderr",
     "output_type": "stream",
     "text": [
      "Training: 100%|██████████| 17/17 [00:04<00:00,  3.90it/s]\n",
      "Evaluating: 100%|██████████| 5/5 [00:00<00:00, 10.05it/s]\n"
     ]
    },
    {
     "name": "stdout",
     "output_type": "stream",
     "text": [
      "Train Loss: 0.0130 | Acc: 0.9526\n",
      "Val Loss: 0.0887 | Acc: 0.8874\n",
      "\n",
      "Epoch 22/99 (balanced)\n",
      "----------\n"
     ]
    },
    {
     "name": "stderr",
     "output_type": "stream",
     "text": [
      "Training: 100%|██████████| 17/17 [00:04<00:00,  3.99it/s]\n",
      "Evaluating: 100%|██████████| 5/5 [00:00<00:00,  9.84it/s]\n"
     ]
    },
    {
     "name": "stdout",
     "output_type": "stream",
     "text": [
      "Train Loss: 0.0231 | Acc: 0.9241\n",
      "Val Loss: 0.0844 | Acc: 0.8874\n",
      "\n",
      "Epoch 23/99 (balanced)\n",
      "----------\n"
     ]
    },
    {
     "name": "stderr",
     "output_type": "stream",
     "text": [
      "Training: 100%|██████████| 17/17 [00:04<00:00,  3.80it/s]\n",
      "Evaluating: 100%|██████████| 5/5 [00:00<00:00, 10.19it/s]\n"
     ]
    },
    {
     "name": "stdout",
     "output_type": "stream",
     "text": [
      "Train Loss: 0.0202 | Acc: 0.9393\n",
      "Val Loss: 0.0886 | Acc: 0.8940\n",
      "\n",
      "Epoch 24/99 (balanced)\n",
      "----------\n"
     ]
    },
    {
     "name": "stderr",
     "output_type": "stream",
     "text": [
      "Training: 100%|██████████| 17/17 [00:04<00:00,  3.88it/s]\n",
      "Evaluating: 100%|██████████| 5/5 [00:00<00:00,  9.64it/s]\n"
     ]
    },
    {
     "name": "stdout",
     "output_type": "stream",
     "text": [
      "Train Loss: 0.0231 | Acc: 0.9412\n",
      "Val Loss: 0.0897 | Acc: 0.8940\n",
      "\n",
      "Epoch 25/99 (balanced)\n",
      "----------\n"
     ]
    },
    {
     "name": "stderr",
     "output_type": "stream",
     "text": [
      "Training: 100%|██████████| 17/17 [00:04<00:00,  3.73it/s]\n",
      "Evaluating: 100%|██████████| 5/5 [00:00<00:00, 10.37it/s]\n"
     ]
    },
    {
     "name": "stdout",
     "output_type": "stream",
     "text": [
      "Train Loss: 0.0191 | Acc: 0.9507\n",
      "Val Loss: 0.0869 | Acc: 0.8675\n",
      "\n",
      "Epoch 26/99 (balanced)\n",
      "----------\n"
     ]
    },
    {
     "name": "stderr",
     "output_type": "stream",
     "text": [
      "Training: 100%|██████████| 17/17 [00:04<00:00,  3.95it/s]\n",
      "Evaluating: 100%|██████████| 5/5 [00:00<00:00,  9.94it/s]\n"
     ]
    },
    {
     "name": "stdout",
     "output_type": "stream",
     "text": [
      "Train Loss: 0.0155 | Acc: 0.9507\n",
      "Val Loss: 0.0833 | Acc: 0.8808\n",
      "\n",
      "Epoch 27/99 (balanced)\n",
      "----------\n"
     ]
    },
    {
     "name": "stderr",
     "output_type": "stream",
     "text": [
      "Training: 100%|██████████| 17/17 [00:04<00:00,  3.79it/s]\n",
      "Evaluating: 100%|██████████| 5/5 [00:00<00:00, 10.05it/s]\n"
     ]
    },
    {
     "name": "stdout",
     "output_type": "stream",
     "text": [
      "Train Loss: 0.0183 | Acc: 0.9412\n",
      "Val Loss: 0.0811 | Acc: 0.8742\n",
      "\n",
      "Epoch 28/99 (balanced)\n",
      "----------\n"
     ]
    },
    {
     "name": "stderr",
     "output_type": "stream",
     "text": [
      "Training: 100%|██████████| 17/17 [00:04<00:00,  3.96it/s]\n",
      "Evaluating: 100%|██████████| 5/5 [00:00<00:00, 10.11it/s]\n"
     ]
    },
    {
     "name": "stdout",
     "output_type": "stream",
     "text": [
      "Train Loss: 0.0244 | Acc: 0.9507\n",
      "Val Loss: 0.0860 | Acc: 0.8808\n",
      "\n",
      "Epoch 29/99 (balanced)\n",
      "----------\n"
     ]
    },
    {
     "name": "stderr",
     "output_type": "stream",
     "text": [
      "Training: 100%|██████████| 17/17 [00:04<00:00,  3.95it/s]\n",
      "Evaluating: 100%|██████████| 5/5 [00:00<00:00, 10.05it/s]\n"
     ]
    },
    {
     "name": "stdout",
     "output_type": "stream",
     "text": [
      "Train Loss: 0.0153 | Acc: 0.9545\n",
      "Val Loss: 0.0807 | Acc: 0.8808\n",
      "\n",
      "Epoch 30/99 (balanced)\n",
      "----------\n"
     ]
    },
    {
     "name": "stderr",
     "output_type": "stream",
     "text": [
      "Training: 100%|██████████| 17/17 [00:05<00:00,  3.39it/s]\n",
      "Evaluating: 100%|██████████| 5/5 [00:00<00:00,  9.49it/s]\n"
     ]
    },
    {
     "name": "stdout",
     "output_type": "stream",
     "text": [
      "Train Loss: 0.0116 | Acc: 0.9431\n",
      "Val Loss: 0.0897 | Acc: 0.8874\n",
      "\n",
      "Epoch 31/99 (balanced)\n",
      "----------\n"
     ]
    },
    {
     "name": "stderr",
     "output_type": "stream",
     "text": [
      "Training: 100%|██████████| 17/17 [00:04<00:00,  3.71it/s]\n",
      "Evaluating: 100%|██████████| 5/5 [00:00<00:00, 10.29it/s]\n"
     ]
    },
    {
     "name": "stdout",
     "output_type": "stream",
     "text": [
      "Train Loss: 0.0075 | Acc: 0.9564\n",
      "Val Loss: 0.0867 | Acc: 0.8874\n",
      "\n",
      "Epoch 32/99 (balanced)\n",
      "----------\n"
     ]
    },
    {
     "name": "stderr",
     "output_type": "stream",
     "text": [
      "Training: 100%|██████████| 17/17 [00:04<00:00,  3.76it/s]\n",
      "Evaluating: 100%|██████████| 5/5 [00:00<00:00,  9.90it/s]\n"
     ]
    },
    {
     "name": "stdout",
     "output_type": "stream",
     "text": [
      "Train Loss: 0.0204 | Acc: 0.9488\n",
      "Val Loss: 0.0880 | Acc: 0.8808\n",
      "\n",
      "Epoch 33/99 (balanced)\n",
      "----------\n"
     ]
    },
    {
     "name": "stderr",
     "output_type": "stream",
     "text": [
      "Training: 100%|██████████| 17/17 [00:04<00:00,  3.86it/s]\n",
      "Evaluating: 100%|██████████| 5/5 [00:00<00:00, 10.13it/s]\n"
     ]
    },
    {
     "name": "stdout",
     "output_type": "stream",
     "text": [
      "Train Loss: 0.0227 | Acc: 0.9507\n",
      "Val Loss: 0.0871 | Acc: 0.8808\n",
      "\n",
      "Epoch 34/99 (balanced)\n",
      "----------\n"
     ]
    },
    {
     "name": "stderr",
     "output_type": "stream",
     "text": [
      "Training: 100%|██████████| 17/17 [00:04<00:00,  3.89it/s]\n",
      "Evaluating: 100%|██████████| 5/5 [00:00<00:00,  9.57it/s]\n"
     ]
    },
    {
     "name": "stdout",
     "output_type": "stream",
     "text": [
      "Train Loss: 0.0155 | Acc: 0.9507\n",
      "Val Loss: 0.0808 | Acc: 0.8874\n",
      "\n",
      "Epoch 35/99 (balanced)\n",
      "----------\n"
     ]
    },
    {
     "name": "stderr",
     "output_type": "stream",
     "text": [
      "Training: 100%|██████████| 17/17 [00:04<00:00,  3.83it/s]\n",
      "Evaluating: 100%|██████████| 5/5 [00:00<00:00, 10.04it/s]\n"
     ]
    },
    {
     "name": "stdout",
     "output_type": "stream",
     "text": [
      "Train Loss: 0.0135 | Acc: 0.9526\n",
      "Val Loss: 0.0824 | Acc: 0.8742\n",
      "\n",
      "Epoch 36/99 (balanced)\n",
      "----------\n"
     ]
    },
    {
     "name": "stderr",
     "output_type": "stream",
     "text": [
      "Training: 100%|██████████| 17/17 [00:04<00:00,  3.75it/s]\n",
      "Evaluating: 100%|██████████| 5/5 [00:00<00:00,  9.48it/s]\n"
     ]
    },
    {
     "name": "stdout",
     "output_type": "stream",
     "text": [
      "Train Loss: 0.0153 | Acc: 0.9488\n",
      "Val Loss: 0.0871 | Acc: 0.8675\n",
      "\n",
      "Epoch 37/99 (balanced)\n",
      "----------\n"
     ]
    },
    {
     "name": "stderr",
     "output_type": "stream",
     "text": [
      "Training: 100%|██████████| 17/17 [00:04<00:00,  3.96it/s]\n",
      "Evaluating: 100%|██████████| 5/5 [00:00<00:00,  9.99it/s]\n"
     ]
    },
    {
     "name": "stdout",
     "output_type": "stream",
     "text": [
      "Train Loss: 0.0220 | Acc: 0.9431\n",
      "Val Loss: 0.0878 | Acc: 0.8742\n",
      "\n",
      "Epoch 38/99 (balanced)\n",
      "----------\n"
     ]
    },
    {
     "name": "stderr",
     "output_type": "stream",
     "text": [
      "Training: 100%|██████████| 17/17 [00:04<00:00,  3.74it/s]\n",
      "Evaluating: 100%|██████████| 5/5 [00:00<00:00,  9.96it/s]\n"
     ]
    },
    {
     "name": "stdout",
     "output_type": "stream",
     "text": [
      "Train Loss: 0.0159 | Acc: 0.9450\n",
      "Val Loss: 0.0864 | Acc: 0.8940\n",
      "\n",
      "Early stopping triggered after 39 epochs\n",
      "Best validation Acc (balanced): 0.9007\n"
     ]
    },
    {
     "data": {
      "image/png": "[encoded data removed]",
      "text/plain": [
       "<Figure size 1400x600 with 2 Axes>"
      ]
     },
     "metadata": {},
     "output_type": "display_data"
    },
    {
     "name": "stderr",
     "output_type": "stream",
     "text": [
      "Evaluating: 100%|██████████| 3/3 [00:00<00:00,  6.06it/s]\n"
     ]
    },
    {
     "name": "stdout",
     "output_type": "stream",
     "text": [
      "\n",
      "=== Test Set Evaluation ===\n",
      "Test Loss: 0.2193\n",
      "\n",
      "Classification Report:\n",
      "              precision    recall  f1-score   support\n",
      "\n",
      "  Chickenpox     0.7500    0.8571    0.8000         7\n",
      "      Cowpox     0.8333    0.7143    0.7692         7\n",
      "        HFMD     0.8333    0.9375    0.8824        16\n",
      "     Healthy     1.0000    1.0000    1.0000        11\n",
      "     Measles     0.6667    1.0000    0.8000         6\n",
      "   Monkeypox     1.0000    0.8276    0.9057        29\n",
      "\n",
      "    accuracy                         0.8816        76\n",
      "   macro avg     0.8472    0.8894    0.8595        76\n",
      "weighted avg     0.9002    0.8816    0.8838        76\n",
      "\n"
     ]
    },
    {
     "data": {
      "image/png": "[encoded data removed]",
      "text/plain": [
       "<Figure size 1200x1000 with 2 Axes>"
      ]
     },
     "metadata": {},
     "output_type": "display_data"
    },
    {
     "name": "stdout",
     "output_type": "stream",
     "text": [
      "\n",
      "Class-wise Performance:\n",
      "+------------+----------+---------+-------+-----------+---------+----------+\n",
      "|   Class    | Accuracy | Correct | Total | Precision | Recall  | F1-score |\n",
      "+------------+----------+---------+-------+-----------+---------+----------+\n",
      "| Chickenpox |  85.71%  |    6    |   7   |  75.00%   | 85.71%  |  80.00%  |\n",
      "|   Cowpox   |  71.43%  |    5    |   7   |  83.33%   | 71.43%  |  76.92%  |\n",
      "|    HFMD    |  93.75%  |   15    |  16   |  83.33%   | 93.75%  |  88.24%  |\n",
      "|  Healthy   | 100.00%  |   11    |  11   |  100.00%  | 100.00% | 100.00%  |\n",
      "|  Measles   | 100.00%  |    6    |   6   |  66.67%   | 100.00% |  80.00%  |\n",
      "| Monkeypox  |  82.76%  |   24    |  29   |  100.00%  | 82.76%  |  90.57%  |\n",
      "+------------+----------+---------+-------+-----------+---------+----------+\n",
      "\n",
      "Overall Accuracy: 88.16%\n"
     ]
    }
   ],
   "source": [
    "# Cell 9: Two-Stage Training with Focal Loss and Warm Restarts (Corrected Syntax)\n",
    "from sklearn.metrics import precision_score, recall_score, f1_score, classification_report, confusion_matrix\n",
    "from tqdm import tqdm\n",
    "import torch\n",
    "import torch.nn as nn\n",
    "import torch.optim as optim\n",
    "import copy\n",
    "import numpy as np\n",
    "import pandas as pd\n",
    "import matplotlib.pyplot as plt\n",
    "import seaborn as sns\n",
    "from tabulate import tabulate\n",
    "\n",
    "class FocalLoss(nn.Module):\n",
    "    def __init__(self, gamma=1.5, weight=None, reduction='mean'):\n",
    "        super().__init__()\n",
    "        self.gamma = gamma\n",
    "        self.weight = weight\n",
    "        self.reduction = reduction\n",
    "\n",
    "    def forward(self, inputs, targets):\n",
    "        ce_loss = nn.functional.cross_entropy(inputs, targets, weight=self.weight, reduction='none')\n",
    "        pt = torch.exp(-ce_loss)\n",
    "        focal_loss = ((1 - pt) ** self.gamma * ce_loss)\n",
    "        if self.reduction == 'mean':\n",
    "            return focal_loss.mean()\n",
    "        return focal_loss.sum()\n",
    "\n",
    "def plot_training_history(history):\n",
    "    plt.figure(figsize=(14, 6))\n",
    "    \n",
    "    plt.subplot(1, 2, 1)\n",
    "    plt.plot(history['train_loss'], label='Train Loss', marker='o')\n",
    "    plt.plot(history['val_loss'], label='Validation Loss', marker='o')\n",
    "    plt.title('Training and Validation Loss')\n",
    "    plt.xlabel('Epoch')\n",
    "    plt.ylabel('Loss')\n",
    "    plt.grid(True)\n",
    "    plt.legend()\n",
    "    \n",
    "    plt.subplot(1, 2, 2)\n",
    "    plt.plot(history['train_acc'], label='Train Accuracy', marker='o')\n",
    "    plt.plot(history['val_acc'], label='Validation Accuracy', marker='o')\n",
    "    plt.title('Training and Validation Accuracy')\n",
    "    plt.xlabel('Epoch')\n",
    "    plt.ylabel('Accuracy')\n",
    "    plt.grid(True)\n",
    "    plt.legend()\n",
    "    \n",
    "    plt.tight_layout()\n",
    "    plt.show()\n",
    "\n",
    "def evaluate_model(model, dataloader, criterion):\n",
    "    model.eval()\n",
    "    all_preds = []\n",
    "    all_labels = []\n",
    "    total_loss = 0.0\n",
    "    \n",
    "    with torch.no_grad():\n",
    "        for inputs, labels in tqdm(dataloader, desc='Evaluating'):\n",
    "            inputs = inputs.to(device)\n",
    "            labels = labels.to(device)\n",
    "            \n",
    "            outputs = model(inputs)\n",
    "            _, preds = torch.max(outputs, 1)\n",
    "            loss = criterion(outputs, labels)\n",
    "            \n",
    "            all_preds.extend(preds.cpu().numpy())\n",
    "            all_labels.extend(labels.cpu().numpy())\n",
    "            total_loss += loss.item() * inputs.size(0)\n",
    "    \n",
    "    avg_loss = total_loss / len(dataloader.dataset)\n",
    "    return all_labels, all_preds, avg_loss\n",
    "\n",
    "def mixup_data(x, y, alpha=0.0):\n",
    "    if alpha > 0:\n",
    "        lam = np.random.beta(alpha, alpha)\n",
    "    else:\n",
    "        lam = 1\n",
    "    \n",
    "    batch_size = x.size()[0]\n",
    "    index = torch.randperm(batch_size).to(x.device)\n",
    "    \n",
    "    mixed_x = lam * x + (1 - lam) * x[index]\n",
    "    y_a, y_b = y, y[index]\n",
    "    return mixed_x, y_a, y_b, lam\n",
    "\n",
    "def train_model(model, criterion, optimizer, scheduler, num_epochs=150, mixup_alpha=0.0, patience=25, stage='minority'):\n",
    "    best_model_wts = copy.deepcopy(model.state_dict())\n",
    "    best_acc = 0.0\n",
    "    epochs_no_improve = 0\n",
    "    \n",
    "    train_loss_history = []\n",
    "    train_acc_history = []\n",
    "    val_loss_history = []\n",
    "    val_acc_history = []\n",
    "    \n",
    "    scaler = torch.amp.GradScaler('cuda')\n",
    "    \n",
    "    for epoch in range(num_epochs):\n",
    "        print(f'Epoch {epoch}/{num_epochs - 1} ({stage})')\n",
    "        print('-' * 10)\n",
    "        \n",
    "        model.train()\n",
    "        running_loss = 0.0\n",
    "        running_corrects = 0\n",
    "        total_samples = 0\n",
    "        \n",
    "        for inputs, labels in tqdm(train_loader, desc='Training'):\n",
    "            inputs = inputs.to(device)\n",
    "            labels = labels.to(device)\n",
    "            batch_size = inputs.size(0)\n",
    "            \n",
    "            optimizer.zero_grad()\n",
    "            \n",
    "            mixed_inputs, labels_a, labels_b, lam = mixup_data(inputs, labels, alpha=mixup_alpha)\n",
    "            \n",
    "            with torch.amp.autocast('cuda'):\n",
    "                outputs = model(mixed_inputs)\n",
    "                loss = lam * criterion(outputs, labels_a) + (1 - lam) * criterion(outputs, labels_b)\n",
    "                \n",
    "                if torch.isnan(loss):\n",
    "                    print(f\"Warning: NaN loss detected in batch, skipping...\")\n",
    "                    continue\n",
    "                \n",
    "                _, preds = torch.max(outputs, 1)\n",
    "                running_corrects += lam * torch.sum(preds == labels_a) + (1 - lam) * torch.sum(preds == labels_b)\n",
    "            \n",
    "            scaler.scale(loss).backward()\n",
    "            scaler.unscale_(optimizer)\n",
    "            torch.nn.utils.clip_grad_norm_(model.parameters(), max_norm=5.0)\n",
    "            scaler.step(optimizer)\n",
    "            scaler.update()\n",
    "            \n",
    "            running_loss += loss.item() * batch_size\n",
    "            total_samples += batch_size\n",
    "        \n",
    "        model.eval()\n",
    "        val_labels, val_preds, val_loss = evaluate_model(model, val_loader, criterion)\n",
    "        val_acc = (np.array(val_preds) == np.array(val_labels)).mean()\n",
    "        \n",
    "        train_loss = running_loss / total_samples if total_samples > 0 else float('nan')\n",
    "        train_acc = running_corrects.double() / total_samples if total_samples > 0 else 0.0\n",
    "        \n",
    "        train_loss_history.append(train_loss)\n",
    "        train_acc_history.append(train_acc.cpu().numpy())\n",
    "        val_loss_history.append(val_loss)\n",
    "        val_acc_history.append(val_acc)\n",
    "        \n",
    "        if scheduler is not None:\n",
    "            scheduler.step()\n",
    "        \n",
    "        print(f'Train Loss: {train_loss:.4f} | Acc: {train_acc:.4f}')\n",
    "        print(f'Val Loss: {val_loss:.4f} | Acc: {val_acc:.4f}\\n')\n",
    "        \n",
    "        if val_acc > best_acc:\n",
    "            best_acc = val_acc\n",
    "            best_model_wts = copy.deepcopy(model.state_dict())\n",
    "            epochs_no_improve = 0\n",
    "        else:\n",
    "            epochs_no_improve += 1\n",
    "            if epochs_no_improve >= patience:\n",
    "                print(f'Early stopping triggered after {epoch + 1} epochs')\n",
    "                break\n",
    "    \n",
    "    print(f'Best validation Acc ({stage}): {best_acc:.4f}')\n",
    "    model.load_state_dict(best_model_wts)\n",
    "    return model, {\n",
    "        'train_loss': train_loss_history,\n",
    "        'train_acc': train_acc_history,\n",
    "        'val_loss': val_loss_history,\n",
    "        'val_acc': val_acc_history\n",
    "    }\n",
    "\n",
    "def evaluate_and_report(model, test_loader, test_dataset, criterion):\n",
    "    test_labels, test_preds, test_loss = evaluate_model(model, test_loader, criterion)\n",
    "    class_names = test_dataset.classes\n",
    "    print(\"\\n=== Test Set Evaluation ===\")\n",
    "    print(f\"Test Loss: {test_loss:.4f}\")\n",
    "    print(\"\\nClassification Report:\")\n",
    "    print(classification_report(test_labels, test_preds, target_names=class_names, digits=4))\n",
    "\n",
    "    class_correct = [0] * len(class_names)\n",
    "    class_total = [0] * len(class_names)\n",
    "\n",
    "    for label, pred in zip(test_labels, test_preds):\n",
    "        class_correct[label] += (label == pred)\n",
    "        class_total[label] += 1\n",
    "\n",
    "    plt.figure(figsize=(12, 10))\n",
    "    cm = confusion_matrix(test_labels, test_preds)\n",
    "    cm_percent = cm.astype('float') / cm.sum(axis=1)[:, np.newaxis]\n",
    "    sns.heatmap(cm_percent, annot=True, fmt='.2%', cmap='Blues',\n",
    "                xticklabels=class_names, yticklabels=class_names)\n",
    "    plt.title('Confusion Matrix (Percentages)')\n",
    "    plt.xlabel('Predicted')\n",
    "    plt.ylabel('True')\n",
    "    plt.show()\n",
    "\n",
    "    precision = precision_score(test_labels, test_preds, average=None)\n",
    "    recall = recall_score(test_labels, test_preds, average=None)\n",
    "    f1 = f1_score(test_labels, test_preds, average=None)\n",
    "\n",
    "    print(\"\\nClass-wise Performance:\")\n",
    "    results = []\n",
    "    for i in range(len(class_names)):\n",
    "        if class_total[i] > 0:\n",
    "            results.append({\n",
    "                'Class': class_names[i],\n",
    "                'Accuracy': f\"{100 * class_correct[i] / class_total[i]:.2f}%\",\n",
    "                'Correct': class_correct[i],\n",
    "                'Total': class_total[i],\n",
    "                'Precision': f\"{100 * precision[i]:.2f}%\",\n",
    "                'Recall': f\"{100 * recall[i]:.2f}%\",\n",
    "                'F1-score': f\"{100 * f1[i]:.2f}%\"\n",
    "            })\n",
    "\n",
    "    results_df = pd.DataFrame(results)\n",
    "    print(tabulate(results_df, headers='keys', tablefmt='pretty', showindex=False))\n",
    "\n",
    "    overall_acc = (np.array(test_labels) == np.array(test_preds)).mean()\n",
    "    print(f\"\\nOverall Accuracy: {overall_acc * 100:.2f}%\")\n",
    "    return overall_acc\n",
    "\n",
    "# Initialize model\n",
    "model = MpoxCNN(num_classes=6).to(device)\n",
    "\n",
    "# Class weights (corrected syntax)\n",
    "class_counts = train['label'].value_counts().sort_index()\n",
    "class_weights = 1.0 / torch.tensor([class_counts[cls] for cls in sorted(class_counts.index)], dtype=torch.float)\n",
    "class_weights = torch.clamp(class_weights, max=20.0)\n",
    "class_weights = class_weights / class_weights.sum() * len(class_weights)\n",
    "class_weights = class_weights.to(device)\n",
    "\n",
    "criterion = FocalLoss(gamma=1.5, weight=class_weights, reduction='mean')\n",
    "\n",
    "# Stage 1: Train with minority class focus\n",
    "optimizer = optim.AdamW(\n",
    "    model.parameters(),\n",
    "    lr=1e-4,\n",
    "    weight_decay=0.01,\n",
    "    betas=(0.9, 0.999),\n",
    "    eps=1e-6\n",
    ")\n",
    "\n",
    "scheduler = torch.optim.lr_scheduler.CosineAnnealingWarmRestarts(\n",
    "    optimizer, T_0=50, T_mult=1, eta_min=1e-6\n",
    ")\n",
    "\n",
    "print(\"\\n=== Stage 1: Minority Class Focus ===\\n\")\n",
    "model, stage1_history = train_model(\n",
    "    model, \n",
    "    criterion, \n",
    "    optimizer, \n",
    "    scheduler, \n",
    "    num_epochs=50,\n",
    "    mixup_alpha=0.0,\n",
    "    patience=20,\n",
    "    stage='minority'\n",
    ")\n",
    "\n",
    "# Stage 2: Balanced fine-tuning with standard dataset\n",
    "train_dataset = CustomSplitDataset(train, transform=data_transforms['train']['default'])\n",
    "train_loader = torch.utils.data.DataLoader(\n",
    "    train_dataset,\n",
    "    batch_size=32,\n",
    "    shuffle=True,\n",
    "    num_workers=8,\n",
    "    pin_memory=True\n",
    ")\n",
    "\n",
    "optimizer = optim.AdamW(\n",
    "    model.parameters(),\n",
    "    lr=2e-5,\n",
    "    weight_decay=0.01,\n",
    "    betas=(0.9, 0.999),\n",
    "    eps=1e-6\n",
    ")\n",
    "\n",
    "scheduler = torch.optim.lr_scheduler.CosineAnnealingWarmRestarts(\n",
    "    optimizer, T_0=50, T_mult=1, eta_min=1e-6\n",
    ")\n",
    "\n",
    "print(\"\\n=== Stage 2: Balanced Fine-Tuning ===\\n\")\n",
    "model, stage2_history = train_model(\n",
    "    model, \n",
    "    criterion, \n",
    "    optimizer, \n",
    "    scheduler, \n",
    "    num_epochs=100,\n",
    "    mixup_alpha=0.0,\n",
    "    patience=25,\n",
    "    stage='balanced'\n",
    ")\n",
    "\n",
    "# Combine histories for visualization\n",
    "combined_history = {\n",
    "    'train_loss': stage1_history['train_loss'] + stage2_history['train_loss'],\n",
    "    'train_acc': stage1_history['train_acc'] + stage2_history['train_acc'],\n",
    "    'val_loss': stage1_history['val_loss'] + stage2_history['val_loss'],\n",
    "    'val_acc': stage1_history['val_acc'] + stage2_history['val_acc']\n",
    "}\n",
    "plot_training_history(combined_history)\n",
    "\n",
    "# Evaluate\n",
    "accuracy = evaluate_and_report(model, test_loader, test_dataset, criterion)"
   ]
  },
  {
   "cell_type": "code",
   "execution_count": 10,
   "id": "e7ceecb0",
   "metadata": {
    "execution": {
     "iopub.execute_input": "2025-06-05T14:46:38.929169Z",
     "iopub.status.busy": "2025-06-05T14:46:38.928394Z",
     "iopub.status.idle": "2025-06-05T14:46:39.179086Z",
     "shell.execute_reply": "2025-06-05T14:46:39.178188Z"
    },
    "papermill": {
     "duration": 0.452683,
     "end_time": "2025-06-05T14:46:39.180411",
     "exception": false,
     "start_time": "2025-06-05T14:46:38.727728",
     "status": "completed"
    },
    "tags": []
   },
   "outputs": [
    {
     "name": "stdout",
     "output_type": "stream",
     "text": [
      "Model successfully saved to mpox_cnn_model.pth\n"
     ]
    }
   ],
   "source": [
    "import torch\n",
    "import os\n",
    "\n",
    "# Cell: Save Model\n",
    "def save_model(model, save_path=\"mpox_cnn_model.pth\"):\n",
    "    \"\"\"\n",
    "    Save the model's state dictionary to a file.\n",
    "    \n",
    "    Args:\n",
    "        model: The trained PyTorch model to save\n",
    "        save_path: File path to save the model (default: 'mpox_cnn_model.pth')\n",
    "    \"\"\"\n",
    "    try:\n",
    "        torch.save(model.state_dict(), save_path)\n",
    "        print(f\"Model successfully saved to {save_path}\")\n",
    "    except Exception as e:\n",
    "        print(f\"Error saving model: {str(e)}\")\n",
    "\n",
    "# Ensure the model is in evaluation mode\n",
    "model.eval()\n",
    "\n",
    "# Save the model\n",
    "save_path = \"mpox_cnn_model.pth\"\n",
    "save_model(model, save_path)"
   ]
  }
 ],
 "metadata": {
  "kaggle": {
   "accelerator": "gpu",
   "dataSources": [
    {
     "datasetId": 3296934,
     "sourceId": 6076457,
     "sourceType": "datasetVersion"
    }
   ],
   "dockerImageVersionId": 31041,
   "isGpuEnabled": true,
   "isInternetEnabled": true,
   "language": "python",
   "sourceType": "notebook"
  },
  "kernelspec": {
   "display_name": "Python 3",
   "language": "python",
   "name": "python3"
  },
  "language_info": {
   "codemirror_mode": {
    "name": "ipython",
    "version": 3
   },
   "file_extension": ".py",
   "mimetype": "text/x-python",
   "name": "python",
   "nbconvert_exporter": "python",
   "pygments_lexer": "ipython3",
   "version": "3.11.11"
  },
  "papermill": {
   "default_parameters": {},
   "duration": 931.876206,
   "end_time": "2025-06-05T14:46:42.198057",
   "environment_variables": {},
   "exception": null,
   "input_path": "__notebook__.ipynb",
   "output_path": "__notebook__.ipynb",
   "parameters": {},
   "start_time": "2025-06-05T14:31:10.321851",
   "version": "2.6.0"
  }
 },
 "nbformat": 4,
 "nbformat_minor": 5
}
